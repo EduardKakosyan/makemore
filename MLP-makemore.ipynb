{
 "cells": [
  {
   "cell_type": "code",
   "execution_count": 45,
   "id": "75241bf9-58a8-4134-ac2d-46832683bb22",
   "metadata": {},
   "outputs": [],
   "source": [
    "import torch\n",
    "import torch.nn.functional as F\n",
    "import matplotlib.pyplot as plt\n",
    "%matplotlib inline"
   ]
  },
  {
   "cell_type": "code",
   "execution_count": 46,
   "id": "a6128aae-9c45-4556-a776-3471bfe59e28",
   "metadata": {},
   "outputs": [],
   "source": [
    "words = open('names.txt', 'r').read().splitlines()"
   ]
  },
  {
   "cell_type": "code",
   "execution_count": 47,
   "id": "807d3513-489e-4553-ac64-e0ac624d4e60",
   "metadata": {},
   "outputs": [],
   "source": [
    "chars = sorted(list(set(''.join(words))))\n",
    "stoi = {s:i+1 for i,s in enumerate(chars)}\n",
    "stoi['.'] = 0\n",
    "itos = {i:s for s,i in stoi.items()}"
   ]
  },
  {
   "cell_type": "code",
   "execution_count": 48,
   "id": "a094771f-389c-4304-bcff-25d050370468",
   "metadata": {},
   "outputs": [],
   "source": [
    "block_size = 3 # context length: how many characters do we take to predict the next one?\n",
    "\n",
    "X, Y = [], [] # x is input, y is label for each example in X\n",
    "for w in words[:5]:\n",
    "    context = [0] * block_size\n",
    "    for ch in w + '.':\n",
    "        ix = stoi[ch]\n",
    "        X.append(context)\n",
    "        Y.append(ix)\n",
    "        context = context[1:] + [ix] # crop and append\n",
    "X = torch.tensor(X)\n",
    "Y = torch.tensor(Y)"
   ]
  },
  {
   "cell_type": "code",
   "execution_count": 49,
   "id": "e54d8abd-d3a1-46d3-8380-8e229d24197c",
   "metadata": {},
   "outputs": [],
   "source": [
    "C = torch.randn((27, 2))"
   ]
  },
  {
   "cell_type": "code",
   "execution_count": 50,
   "id": "133c18a2-a1ec-4ba1-a536-c7c8345ddf10",
   "metadata": {},
   "outputs": [],
   "source": [
    "emb = C[X]"
   ]
  },
  {
   "cell_type": "code",
   "execution_count": 51,
   "id": "0b344ce4-d579-4d84-bb79-5411d2ff6e86",
   "metadata": {},
   "outputs": [],
   "source": [
    "W1 = torch.randn((6, 100))\n",
    "b1 = torch.randn(100)"
   ]
  },
  {
   "cell_type": "code",
   "execution_count": 52,
   "id": "132b6850-5fd8-415b-a40f-4b010693c8be",
   "metadata": {},
   "outputs": [],
   "source": [
    "h = torch.tanh(emb.view(-1, 6) @ W1 + b1)"
   ]
  },
  {
   "cell_type": "code",
   "execution_count": 53,
   "id": "9e4328ff-037b-4dd0-a22b-575326510b9c",
   "metadata": {},
   "outputs": [],
   "source": [
    "W2 = torch.randn((100, 27))\n",
    "b2 = torch.rand(27)\n"
   ]
  },
  {
   "cell_type": "code",
   "execution_count": 54,
   "id": "fa618254-4b66-4c14-b0cb-1ba1703585d5",
   "metadata": {},
   "outputs": [],
   "source": [
    "logits = h @ W2 + b2\n",
    "counts = logits.exp()\n",
    "probs = counts / counts.sum(1, keepdims=True)"
   ]
  },
  {
   "cell_type": "code",
   "execution_count": 55,
   "id": "e3fdcf86-670b-4041-a0fd-0eefcbf18b24",
   "metadata": {},
   "outputs": [
    {
     "data": {
      "text/plain": [
       "tensor([1.4267e-06, 6.4278e-02, 4.8429e-09, 5.4352e-08, 1.4727e-06, 2.5704e-07,\n",
       "        1.8851e-02, 2.3700e-04, 3.4618e-07, 1.4544e-07, 8.0486e-08, 5.1189e-08,\n",
       "        1.6042e-04, 2.2198e-10, 5.6399e-10, 1.4984e-05, 1.3253e-03, 2.1509e-06,\n",
       "        1.8463e-02, 2.3262e-04, 7.0290e-06, 3.7492e-06, 8.8302e-10, 1.3898e-08,\n",
       "        3.9286e-06, 5.9107e-07, 4.2896e-10, 8.3468e-09, 3.8211e-12, 2.1255e-09,\n",
       "        2.5224e-04, 1.0044e-06])"
      ]
     },
     "execution_count": 55,
     "metadata": {},
     "output_type": "execute_result"
    }
   ],
   "source": [
    "-probs[torch.arange(32), Y].log.mean()"
   ]
  },
  {
   "cell_type": "code",
   "execution_count": null,
   "id": "eb5fe8d2-110b-4118-90b3-c6b060ad4ff8",
   "metadata": {},
   "outputs": [],
   "source": []
  }
 ],
 "metadata": {
  "kernelspec": {
   "display_name": "Python 3 (ipykernel)",
   "language": "python",
   "name": "python3"
  },
  "language_info": {
   "codemirror_mode": {
    "name": "ipython",
    "version": 3
   },
   "file_extension": ".py",
   "mimetype": "text/x-python",
   "name": "python",
   "nbconvert_exporter": "python",
   "pygments_lexer": "ipython3",
   "version": "3.13.1"
  }
 },
 "nbformat": 4,
 "nbformat_minor": 5
}
