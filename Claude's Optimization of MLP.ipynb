{
 "cells": [
  {
   "cell_type": "code",
   "execution_count": 3,
   "id": "ac78c8c8-e548-4353-91ba-666d5633f2e9",
   "metadata": {},
   "outputs": [],
   "source": [
    "import torch\n",
    "import torch.nn.functional as F\n",
    "import matplotlib.pyplot as plt\n",
    "%matplotlib inline\n",
    "\n",
    "# Load and prepare data (same as before)\n",
    "words = open('names.txt', 'r').read().splitlines()\n",
    "chars = sorted(list(set(''.join(words))))\n",
    "stoi = {s:i+1 for i,s in enumerate(chars)}\n",
    "stoi['.'] = 0\n",
    "itos = {i:s for s,i in stoi.items()}\n",
    "\n",
    "def build_dataset(words):\n",
    "    block_size = 4\n",
    "    X, Y = [], []\n",
    "    for w in words:\n",
    "        context = [0] * block_size\n",
    "        for ch in w + '.':\n",
    "            ix = stoi[ch]\n",
    "            X.append(context)\n",
    "            Y.append(ix)\n",
    "            context = context[1:] + [ix]\n",
    "\n",
    "    X = torch.tensor(X)\n",
    "    Y = torch.tensor(Y)\n",
    "    return X, Y\n",
    "\n",
    "import random\n",
    "random.seed(42)\n",
    "random.shuffle(words)\n",
    "n1 = int(0.8 * len(words))\n",
    "n2 = int(0.9 * len(words))\n",
    "\n",
    "Xtr, Ytr = build_dataset(words[:n1])\n",
    "Xdev, Ydev = build_dataset(words[n1:n2])\n",
    "Xte, Yte = build_dataset(words[n2:])"
   ]
  },
  {
   "cell_type": "code",
   "execution_count": 4,
   "id": "b94ee535-730b-427c-a0ab-308790f0afa2",
   "metadata": {},
   "outputs": [
    {
     "name": "stdout",
     "output_type": "stream",
     "text": [
      "Training set: 182625 examples\n",
      "Dev set: 22655 examples\n",
      "Test set: 22866 examples\n"
     ]
    }
   ],
   "source": [
    "print(f\"Training set: {Xtr.shape[0]} examples\")\n",
    "print(f\"Dev set: {Xdev.shape[0]} examples\")\n",
    "print(f\"Test set: {Xte.shape[0]} examples\")"
   ]
  },
  {
   "cell_type": "code",
   "execution_count": 5,
   "id": "04ccdc2e-39d9-4eec-9538-a2485eb8437b",
   "metadata": {},
   "outputs": [
    {
     "name": "stdout",
     "output_type": "stream",
     "text": [
      "Total parameters: 28059\n",
      "Step 0: loss = 3.3040, lr = 0.000000\n",
      "Step 10000: loss = 2.1409, lr = 0.099547\n",
      "Step 20000: loss = 2.0661, lr = 0.097991\n",
      "Step 30000: loss = 2.0177, lr = 0.095366\n",
      "Step 40000: loss = 1.9729, lr = 0.091737\n",
      "Step 50000: loss = 2.1766, lr = 0.087194\n",
      "Step 60000: loss = 2.0000, lr = 0.081851\n",
      "Step 70000: loss = 2.0795, lr = 0.075840\n",
      "Step 80000: loss = 1.8541, lr = 0.069311\n",
      "Step 90000: loss = 1.9769, lr = 0.062425\n",
      "Step 100000: loss = 1.7936, lr = 0.055355\n",
      "Step 110000: loss = 1.9052, lr = 0.048276\n",
      "Step 120000: loss = 1.9234, lr = 0.041365\n",
      "Step 130000: loss = 2.0535, lr = 0.034792\n",
      "Step 140000: loss = 1.7854, lr = 0.028722\n",
      "Step 150000: loss = 1.9029, lr = 0.023306\n",
      "Step 160000: loss = 1.8097, lr = 0.018678\n",
      "Step 170000: loss = 1.9965, lr = 0.014953\n",
      "Step 180000: loss = 1.9381, lr = 0.012224\n",
      "Step 190000: loss = 1.7375, lr = 0.010560\n"
     ]
    }
   ],
   "source": [
    "g = torch.Generator().manual_seed(2147483647)\n",
    "\n",
    "# Better initialization and architecture\n",
    "C = torch.randn((27, 16), generator=g) * 0.1  # Larger embeddings, better init\n",
    "W1 = torch.randn((64, 300), generator=g) * (5/3) / (64**0.5)  # Xavier-like init\n",
    "b1 = torch.randn(300, generator=g) * 0.01  # Small bias init\n",
    "W2 = torch.randn((300, 27), generator=g) * 0.01  # Small final layer init\n",
    "b2 = torch.randn(27, generator=g) * 0.01\n",
    "\n",
    "parameters = [C, W1, b1, W2, b2]\n",
    "print(f\"Total parameters: {sum(p.nelement() for p in parameters)}\")\n",
    "\n",
    "for p in parameters:\n",
    "    p.requires_grad = True\n",
    "\n",
    "# IMPROVED TRAINING LOOP\n",
    "lossi = []\n",
    "stepi = []\n",
    "lri = []\n",
    "\n",
    "# Learning rate schedule\n",
    "max_steps = 200000\n",
    "lr_decay_steps = max_steps\n"
   ]
  },
  {
   "cell_type": "code",
   "execution_count": 8,
   "id": "f394580a-c8ba-4121-979d-2337eeda8a4a",
   "metadata": {},
   "outputs": [
    {
     "name": "stdout",
     "output_type": "stream",
     "text": [
      "Step 0: loss = 1.7030, lr = 0.000000\n",
      "Step 10000: loss = 1.8246, lr = 0.099547\n",
      "Step 20000: loss = 1.6639, lr = 0.097991\n",
      "Step 30000: loss = 1.8543, lr = 0.095366\n",
      "Step 40000: loss = 1.7007, lr = 0.091737\n",
      "Step 50000: loss = 1.8689, lr = 0.087194\n",
      "Step 60000: loss = 1.7253, lr = 0.081851\n",
      "Step 70000: loss = 2.0748, lr = 0.075840\n",
      "Step 80000: loss = 1.8265, lr = 0.069311\n",
      "Step 90000: loss = 1.8123, lr = 0.062425\n",
      "Step 100000: loss = 1.7189, lr = 0.055355\n",
      "Step 110000: loss = 1.6987, lr = 0.048276\n",
      "Step 120000: loss = 1.7735, lr = 0.041365\n",
      "Step 130000: loss = 1.6852, lr = 0.034792\n",
      "Step 140000: loss = 2.0101, lr = 0.028722\n",
      "Step 150000: loss = 1.9665, lr = 0.023306\n",
      "Step 160000: loss = 1.9015, lr = 0.018678\n",
      "Step 170000: loss = 1.7317, lr = 0.014953\n",
      "Step 180000: loss = 1.7713, lr = 0.012224\n",
      "Step 190000: loss = 1.8065, lr = 0.010560\n"
     ]
    }
   ],
   "source": [
    "for i in range(max_steps):\n",
    "    # Dynamic batch size - start smaller, increase over time\n",
    "    if i < 1000:\n",
    "        batch_size = 32\n",
    "    elif i < 10000:\n",
    "        batch_size = 64\n",
    "    else:\n",
    "        batch_size = 128\n",
    "    \n",
    "    # Sample batch\n",
    "    ix = torch.randint(0, Xtr.shape[0], (batch_size,))\n",
    "    \n",
    "    # Forward pass\n",
    "    emb = C[Xtr[ix]]  # (batch_size, 4, 16)\n",
    "    h = torch.tanh(emb.view(-1, 64) @ W1 + b1)  # (batch_size, 300)\n",
    "    logits = h @ W2 + b2  # (batch_size, 27)\n",
    "    loss = F.cross_entropy(logits, Ytr[ix])\n",
    "    \n",
    "    # Backward pass\n",
    "    for p in parameters:\n",
    "        p.grad = None\n",
    "    loss.backward()\n",
    "    \n",
    "    # Learning rate schedule: cosine annealing with warmup\n",
    "    if i < 1000:  # Warmup\n",
    "        lr = 0.1 * (i / 1000)\n",
    "    else:  # Cosine annealing\n",
    "        progress = (i - 1000) / (max_steps - 1000)\n",
    "        lr = 0.01 + 0.09 * (1 + torch.cos(torch.tensor(progress * 3.14159))) / 2\n",
    "    \n",
    "    # Gradient clipping\n",
    "    total_norm = 0\n",
    "    for p in parameters:\n",
    "        if p.grad is not None:\n",
    "            total_norm += p.grad.data.norm(2).item() ** 2\n",
    "    total_norm = total_norm ** 0.5\n",
    "    \n",
    "    clip_norm = 1.0\n",
    "    if total_norm > clip_norm:\n",
    "        for p in parameters:\n",
    "            if p.grad is not None:\n",
    "                p.grad.data.mul_(clip_norm / total_norm)\n",
    "    \n",
    "    # Update parameters\n",
    "    for p in parameters:\n",
    "        p.data += -lr * p.grad\n",
    "    \n",
    "    # Logging\n",
    "    if i % 10000 == 0:\n",
    "        print(f\"Step {i}: loss = {loss.item():.4f}, lr = {lr:.6f}\")\n",
    "    \n",
    "    stepi.append(i)\n",
    "    lossi.append(loss.log10().item())\n",
    "    lri.append(lr)"
   ]
  },
  {
   "cell_type": "code",
   "execution_count": 6,
   "id": "ea9e4aae-c909-4ec0-9a0e-51defb8f16ba",
   "metadata": {},
   "outputs": [
    {
     "data": {
      "image/png": "[encoded data removed]",
      "text/plain": [
       "<Figure size 1200x400 with 2 Axes>"
      ]
     },
     "metadata": {},
     "output_type": "display_data"
    },
    {
     "name": "stdout",
     "output_type": "stream",
     "text": [
      "\n",
      "==================================================\n",
      "EVALUATION RESULTS\n",
      "==================================================\n",
      "Training loss: 1.8532\n",
      "Dev loss: 2.0423\n"
     ]
    }
   ],
   "source": [
    "# Plot training curve\n",
    "plt.figure(figsize=(12, 4))\n",
    "\n",
    "plt.subplot(1, 2, 1)\n",
    "plt.plot(stepi, lossi)\n",
    "plt.xlabel('Step')\n",
    "plt.ylabel('Log Loss')\n",
    "plt.title('Training Loss')\n",
    "\n",
    "plt.subplot(1, 2, 2)\n",
    "plt.plot(stepi, lri)\n",
    "plt.xlabel('Step')\n",
    "plt.ylabel('Learning Rate')\n",
    "plt.title('Learning Rate Schedule')\n",
    "\n",
    "plt.tight_layout()\n",
    "plt.show()\n",
    "\n",
    "# EVALUATION\n",
    "print(\"\\n\" + \"=\"*50)\n",
    "print(\"EVALUATION RESULTS\")\n",
    "print(\"=\"*50)\n",
    "\n",
    "# Training loss\n",
    "emb = C[Xtr]\n",
    "h = torch.tanh(emb.view(-1, 64) @ W1 + b1)\n",
    "logits = h @ W2 + b2\n",
    "train_loss = F.cross_entropy(logits, Ytr)\n",
    "print(f\"Training loss: {train_loss.item():.4f}\")\n",
    "\n",
    "# Dev loss\n",
    "emb = C[Xdev]\n",
    "h = torch.tanh(emb.view(-1, 64) @ W1 + b1)\n",
    "logits = h @ W2 + b2\n",
    "dev_loss = F.cross_entropy(logits, Ydev)\n",
    "print(f\"Dev loss: {dev_loss.item():.4f}\")\n"
   ]
  },
  {
   "cell_type": "code",
   "execution_count": 7,
   "id": "fbf0d5e7-f985-47bb-9c29-9ffa06bf611f",
   "metadata": {},
   "outputs": [
    {
     "name": "stdout",
     "output_type": "stream",
     "text": [
      "\n",
      "==================================================\n",
      "SAMPLE GENERATIONS\n",
      "==================================================\n",
      "dexten\n",
      "jaleus\n",
      "rochiardo\n",
      "malicit\n",
      "ainsley\n",
      "kamani\n",
      "kreeigha\n",
      "javari\n",
      "mari\n",
      "moriella\n"
     ]
    }
   ],
   "source": [
    "# SAMPLE GENERATION\n",
    "print(\"\\n\" + \"=\"*50)\n",
    "print(\"SAMPLE GENERATIONS\")\n",
    "print(\"=\"*50)\n",
    "\n",
    "g = torch.Generator().manual_seed(2147483647)\n",
    "for _ in range(10):\n",
    "    context = [0] * 4\n",
    "    name = \"\"\n",
    "    while True:\n",
    "        emb = C[torch.tensor([context])]\n",
    "        h = torch.tanh(emb.view(1, -1) @ W1 + b1)\n",
    "        logits = h @ W2 + b2\n",
    "        probs = F.softmax(logits, dim=1)\n",
    "        ix = torch.multinomial(probs, num_samples=1, generator=g).item()\n",
    "        context = context[1:] + [ix]\n",
    "        if ix == 0:\n",
    "            break\n",
    "        name += itos[ix]\n",
    "    print(name)"
   ]
  },
  {
   "cell_type": "code",
   "execution_count": null,
   "id": "0c24a210-c6f0-4929-90f5-1c8709c57274",
   "metadata": {},
   "outputs": [],
   "source": []
  }
 ],
 "metadata": {
  "kernelspec": {
   "display_name": "Python 3 (ipykernel)",
   "language": "python",
   "name": "python3"
  },
  "language_info": {
   "codemirror_mode": {
    "name": "ipython",
    "version": 3
   },
   "file_extension": ".py",
   "mimetype": "text/x-python",
   "name": "python",
   "nbconvert_exporter": "python",
   "pygments_lexer": "ipython3",
   "version": "3.13.1"
  }
 },
 "nbformat": 4,
 "nbformat_minor": 5
}
